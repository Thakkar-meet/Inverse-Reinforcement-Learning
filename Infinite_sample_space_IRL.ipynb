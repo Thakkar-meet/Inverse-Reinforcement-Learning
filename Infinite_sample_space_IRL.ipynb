{
  "nbformat": 4,
  "nbformat_minor": 0,
  "metadata": {
    "colab": {
      "provenance": []
    },
    "kernelspec": {
      "name": "python3",
      "display_name": "Python 3"
    },
    "language_info": {
      "name": "python"
    }
  },
  "cells": [
    {
      "cell_type": "code",
      "source": [
        "!pip install ortools"
      ],
      "metadata": {
        "colab": {
          "base_uri": "https://localhost:8080/"
        },
        "id": "4jodikyDAI2S",
        "outputId": "6d5e28ab-dbd6-406f-fa20-06bcf2bb5b6c"
      },
      "execution_count": null,
      "outputs": [
        {
          "output_type": "stream",
          "name": "stdout",
          "text": [
            "Collecting ortools\n",
            "  Downloading ortools-9.9.3963-cp310-cp310-manylinux_2_17_x86_64.manylinux2014_x86_64.whl (24.8 MB)\n",
            "\u001b[2K     \u001b[90m━━━━━━━━━━━━━━━━━━━━━━━━━━━━━━━━━━━━━━━━\u001b[0m \u001b[32m24.8/24.8 MB\u001b[0m \u001b[31m31.7 MB/s\u001b[0m eta \u001b[36m0:00:00\u001b[0m\n",
            "\u001b[?25hCollecting absl-py>=2.0.0 (from ortools)\n",
            "  Downloading absl_py-2.1.0-py3-none-any.whl (133 kB)\n",
            "\u001b[2K     \u001b[90m━━━━━━━━━━━━━━━━━━━━━━━━━━━━━━━━━━━━━━━━\u001b[0m \u001b[32m133.7/133.7 kB\u001b[0m \u001b[31m6.9 MB/s\u001b[0m eta \u001b[36m0:00:00\u001b[0m\n",
            "\u001b[?25hRequirement already satisfied: numpy>=1.13.3 in /usr/local/lib/python3.10/dist-packages (from ortools) (1.25.2)\n",
            "Requirement already satisfied: pandas>=2.0.0 in /usr/local/lib/python3.10/dist-packages (from ortools) (2.0.3)\n",
            "Collecting protobuf>=4.25.3 (from ortools)\n",
            "  Downloading protobuf-5.26.1-cp37-abi3-manylinux2014_x86_64.whl (302 kB)\n",
            "\u001b[2K     \u001b[90m━━━━━━━━━━━━━━━━━━━━━━━━━━━━━━━━━━━━━━━━\u001b[0m \u001b[32m302.8/302.8 kB\u001b[0m \u001b[31m14.3 MB/s\u001b[0m eta \u001b[36m0:00:00\u001b[0m\n",
            "\u001b[?25hCollecting immutabledict>=3.0.0 (from ortools)\n",
            "  Downloading immutabledict-4.2.0-py3-none-any.whl (4.7 kB)\n",
            "Requirement already satisfied: python-dateutil>=2.8.2 in /usr/local/lib/python3.10/dist-packages (from pandas>=2.0.0->ortools) (2.8.2)\n",
            "Requirement already satisfied: pytz>=2020.1 in /usr/local/lib/python3.10/dist-packages (from pandas>=2.0.0->ortools) (2023.4)\n",
            "Requirement already satisfied: tzdata>=2022.1 in /usr/local/lib/python3.10/dist-packages (from pandas>=2.0.0->ortools) (2024.1)\n",
            "Requirement already satisfied: six>=1.5 in /usr/local/lib/python3.10/dist-packages (from python-dateutil>=2.8.2->pandas>=2.0.0->ortools) (1.16.0)\n",
            "Installing collected packages: protobuf, immutabledict, absl-py, ortools\n",
            "  Attempting uninstall: protobuf\n",
            "    Found existing installation: protobuf 3.20.3\n",
            "    Uninstalling protobuf-3.20.3:\n",
            "      Successfully uninstalled protobuf-3.20.3\n",
            "  Attempting uninstall: absl-py\n",
            "    Found existing installation: absl-py 1.4.0\n",
            "    Uninstalling absl-py-1.4.0:\n",
            "      Successfully uninstalled absl-py-1.4.0\n",
            "\u001b[31mERROR: pip's dependency resolver does not currently take into account all the packages that are installed. This behaviour is the source of the following dependency conflicts.\n",
            "google-ai-generativelanguage 0.4.0 requires protobuf!=3.20.0,!=3.20.1,!=4.21.0,!=4.21.1,!=4.21.2,!=4.21.3,!=4.21.4,!=4.21.5,<5.0.0dev,>=3.19.5, but you have protobuf 5.26.1 which is incompatible.\n",
            "google-api-core 2.11.1 requires protobuf!=3.20.0,!=3.20.1,!=4.21.0,!=4.21.1,!=4.21.2,!=4.21.3,!=4.21.4,!=4.21.5,<5.0.0.dev0,>=3.19.5, but you have protobuf 5.26.1 which is incompatible.\n",
            "google-cloud-aiplatform 1.47.0 requires protobuf!=3.20.0,!=3.20.1,!=4.21.0,!=4.21.1,!=4.21.2,!=4.21.3,!=4.21.4,!=4.21.5,<5.0.0dev,>=3.19.5, but you have protobuf 5.26.1 which is incompatible.\n",
            "google-cloud-bigquery 3.12.0 requires protobuf!=3.20.0,!=3.20.1,!=4.21.0,!=4.21.1,!=4.21.2,!=4.21.3,!=4.21.4,!=4.21.5,<5.0.0dev,>=3.19.5, but you have protobuf 5.26.1 which is incompatible.\n",
            "google-cloud-bigquery-connection 1.12.1 requires protobuf!=3.20.0,!=3.20.1,!=4.21.0,!=4.21.1,!=4.21.2,!=4.21.3,!=4.21.4,!=4.21.5,<5.0.0dev,>=3.19.5, but you have protobuf 5.26.1 which is incompatible.\n",
            "google-cloud-bigquery-storage 2.24.0 requires protobuf!=3.20.0,!=3.20.1,!=4.21.0,!=4.21.1,!=4.21.2,!=4.21.3,!=4.21.4,!=4.21.5,<5.0.0dev,>=3.19.5, but you have protobuf 5.26.1 which is incompatible.\n",
            "google-cloud-datastore 2.15.2 requires protobuf!=3.20.0,!=3.20.1,!=4.21.0,!=4.21.1,!=4.21.2,!=4.21.3,!=4.21.4,!=4.21.5,<5.0.0dev,>=3.19.5, but you have protobuf 5.26.1 which is incompatible.\n",
            "google-cloud-firestore 2.11.1 requires protobuf!=3.20.0,!=3.20.1,!=4.21.0,!=4.21.1,!=4.21.2,!=4.21.3,!=4.21.4,!=4.21.5,<5.0.0dev,>=3.19.5, but you have protobuf 5.26.1 which is incompatible.\n",
            "google-cloud-functions 1.13.3 requires protobuf!=3.20.0,!=3.20.1,!=4.21.0,!=4.21.1,!=4.21.2,!=4.21.3,!=4.21.4,!=4.21.5,<5.0.0dev,>=3.19.5, but you have protobuf 5.26.1 which is incompatible.\n",
            "google-cloud-iam 2.14.3 requires protobuf!=3.20.0,!=3.20.1,!=4.21.0,!=4.21.1,!=4.21.2,!=4.21.3,!=4.21.4,!=4.21.5,<5.0.0dev,>=3.19.5, but you have protobuf 5.26.1 which is incompatible.\n",
            "google-cloud-language 2.13.3 requires protobuf!=3.20.0,!=3.20.1,!=4.21.0,!=4.21.1,!=4.21.2,!=4.21.3,!=4.21.4,!=4.21.5,<5.0.0dev,>=3.19.5, but you have protobuf 5.26.1 which is incompatible.\n",
            "google-cloud-resource-manager 1.12.3 requires protobuf!=3.20.0,!=3.20.1,!=4.21.0,!=4.21.1,!=4.21.2,!=4.21.3,!=4.21.4,!=4.21.5,<5.0.0dev,>=3.19.5, but you have protobuf 5.26.1 which is incompatible.\n",
            "google-cloud-translate 3.11.3 requires protobuf!=3.20.0,!=3.20.1,!=4.21.0,!=4.21.1,!=4.21.2,!=4.21.3,!=4.21.4,!=4.21.5,<5.0.0dev,>=3.19.5, but you have protobuf 5.26.1 which is incompatible.\n",
            "googleapis-common-protos 1.63.0 requires protobuf!=3.20.0,!=3.20.1,!=4.21.1,!=4.21.2,!=4.21.3,!=4.21.4,!=4.21.5,<5.0.0.dev0,>=3.19.5, but you have protobuf 5.26.1 which is incompatible.\n",
            "grpc-google-iam-v1 0.13.0 requires protobuf!=3.20.0,!=3.20.1,!=4.21.1,!=4.21.2,!=4.21.3,!=4.21.4,!=4.21.5,<5.0.0dev,>=3.19.5, but you have protobuf 5.26.1 which is incompatible.\n",
            "proto-plus 1.23.0 requires protobuf<5.0.0dev,>=3.19.0, but you have protobuf 5.26.1 which is incompatible.\n",
            "tensorflow 2.15.0 requires protobuf!=4.21.0,!=4.21.1,!=4.21.2,!=4.21.3,!=4.21.4,!=4.21.5,<5.0.0dev,>=3.20.3, but you have protobuf 5.26.1 which is incompatible.\n",
            "tensorflow-metadata 1.14.0 requires absl-py<2.0.0,>=0.9, but you have absl-py 2.1.0 which is incompatible.\n",
            "tensorflow-metadata 1.14.0 requires protobuf<4.21,>=3.20.3, but you have protobuf 5.26.1 which is incompatible.\u001b[0m\u001b[31m\n",
            "\u001b[0mSuccessfully installed absl-py-2.1.0 immutabledict-4.2.0 ortools-9.9.3963 protobuf-5.26.1\n"
          ]
        }
      ]
    },
    {
      "cell_type": "code",
      "source": [
        "import numpy as np\n",
        "from ortools.linear_solver import pywraplp\n",
        "import matplotlib.pyplot as plt"
      ],
      "metadata": {
        "id": "9DqeezBw5xLe"
      },
      "execution_count": null,
      "outputs": []
    },
    {
      "cell_type": "code",
      "source": [
        "def value(policy, n_states, transition_probabilities, reward, discount,\n",
        "                    threshold=1e-2):\n",
        "    \"\"\"\n",
        "    Find the value function associated with a policy.\n",
        "\n",
        "    policy: List of action ints for each state.\n",
        "    n_states: Number of states. int.\n",
        "    transition_probabilities: Function taking (state, action, state) to\n",
        "        transition probabilities.\n",
        "    reward: Vector of rewards for each state.\n",
        "    discount: MDP discount factor. float.\n",
        "    threshold: Convergence threshold, default 1e-2. float.\n",
        "    -> Array of values for each state\n",
        "    \"\"\"\n",
        "    v = np.zeros(n_states)\n",
        "\n",
        "    diff = float(\"inf\")\n",
        "    while diff > threshold:\n",
        "        diff = 0\n",
        "        for s in range(n_states):\n",
        "            vs = v[s]\n",
        "            a = policy[s]\n",
        "            v[s] = sum(transition_probabilities[s, a, k] *\n",
        "                       (reward[k] + discount * v[k])\n",
        "                       for k in range(n_states))\n",
        "            diff = max(diff, abs(vs - v[s]))\n",
        "\n",
        "    return v"
      ],
      "metadata": {
        "id": "93pud5jNO60s"
      },
      "execution_count": null,
      "outputs": []
    },
    {
      "cell_type": "code",
      "source": [
        "def v_tensor(value, transition_probability, feature_dimension, n_states,\n",
        "             n_actions, policy):\n",
        "    \"\"\"\n",
        "    Finds the v tensor used in large linear IRL.\n",
        "\n",
        "    value: NumPy matrix for the value function. The (i, j)th component\n",
        "        represents the value of the jth state under the ith basis function.\n",
        "    transition_probability: NumPy array mapping (state_i, action, state_k) to\n",
        "        the probability of transitioning from state_i to state_k under action.\n",
        "        Shape (N, A, N).\n",
        "    feature_dimension: Dimension of the feature matrix. int.\n",
        "    n_states: Number of states sampled. int.\n",
        "    n_actions: Number of actions. int.\n",
        "    policy: NumPy array mapping state ints to action ints.\n",
        "    -> v helper tensor.\n",
        "    \"\"\"\n",
        "\n",
        "    v = np.zeros((n_states, n_actions-1, feature_dimension))\n",
        "    for i in range(n_states):\n",
        "        a1 = policy[i]\n",
        "        exp_on_policy = np.dot(transition_probability[i, a1], value.T)\n",
        "        optimal_action_seen = False\n",
        "        for j in range(n_actions):\n",
        "            # Skip this if it's the on-policy action.\n",
        "            if a1 == j:\n",
        "                optimal_action_seen = True\n",
        "                continue\n",
        "            else:\n",
        "                exp_off_policy = np.dot(transition_probability[i, j], value.T)\n",
        "                if optimal_action_seen:\n",
        "                    v[i, j-1] = exp_on_policy - exp_off_policy\n",
        "                else:\n",
        "                    v[i, j] = exp_on_policy - exp_off_policy\n",
        "\n",
        "    return v"
      ],
      "metadata": {
        "id": "SbbVSuFuPjp2"
      },
      "execution_count": null,
      "outputs": []
    },
    {
      "cell_type": "code",
      "source": [
        "def infinite_state_space_IRL(N, k, d, policy, V):\n",
        "    actions = set(range(k))\n",
        "    solver = pywraplp.Solver.CreateSolver('GLOP')\n",
        "\n",
        "    A = []\n",
        "    for i in range(d):\n",
        "        tmp_a = solver.NumVar(-1,1,f\"a_{i}\")\n",
        "        A.append(tmp_a)\n",
        "\n",
        "    Z = []\n",
        "    Y = []\n",
        "    for i in range(N):\n",
        "        y = []\n",
        "        tmp_z = solver.NumVar(-solver.infinity(), solver.infinity(), f\"Z_{i}\")\n",
        "        for j in range(k-1):\n",
        "            tmp_y = solver.NumVar(-solver.infinity(), solver.infinity(), f\"Y_{i}_{j}\")\n",
        "            y.append(tmp_y)\n",
        "        Z.append(tmp_z)\n",
        "        Y.append(y)\n",
        "\n",
        "    objective = solver.Objective()\n",
        "    for i in range(d):\n",
        "        objective.SetCoefficient(A[i],0)\n",
        "\n",
        "    for i in range(N):\n",
        "        objective.SetCoefficient(Z[i],1)\n",
        "    objective.SetMaximization()\n",
        "\n",
        "    for s in range(N):\n",
        "        a1 = policy[s]\n",
        "        optimal_action_seen = False\n",
        "        for j in range(k):\n",
        "            if j == a1:\n",
        "                optimal_action_seen = True\n",
        "                continue\n",
        "            else:\n",
        "                if optimal_action_seen:\n",
        "                    a = j - 1\n",
        "                else:\n",
        "                    a = j\n",
        "\n",
        "                constraint1 = solver.Constraint(-solver.infinity(),0)\n",
        "                constraint2 = solver.Constraint(-solver.infinity(),0)\n",
        "                for i in range(d):\n",
        "                    constraint1.SetCoefficient(A[i], -(V[s,a,i]))\n",
        "                    constraint2.SetCoefficient(A[i], -2*V[s,a,i])\n",
        "                constraint1.SetCoefficient(Y[s][a],1)\n",
        "                constraint2.SetCoefficient(Y[s][a],1)\n",
        "\n",
        "                constraint3 = solver.Constraint(-solver.infinity(), Y[s][a])\n",
        "                constraint3.SetCoefficient(Z[s], 1)\n",
        "\n",
        "\n",
        "    status = solver.Solve()\n",
        "    if status == pywraplp.Solver.OPTIMAL:\n",
        "        # Retrieve solution\n",
        "        solution = [A[i].solution_value() for i in range(d)]\n",
        "        optimal_value = solver.Objective().Value()\n",
        "        return solution, optimal_value\n",
        "    else:\n",
        "        return None, None"
      ],
      "metadata": {
        "id": "nZxfGt0H2CSk"
      },
      "execution_count": 1,
      "outputs": []
    },
    {
      "cell_type": "code",
      "source": [],
      "metadata": {
        "id": "_TzsXfb1h1TQ"
      },
      "execution_count": null,
      "outputs": []
    }
  ]
}