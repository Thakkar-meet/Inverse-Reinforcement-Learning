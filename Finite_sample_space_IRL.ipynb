{
  "nbformat": 4,
  "nbformat_minor": 0,
  "metadata": {
    "colab": {
      "provenance": []
    },
    "kernelspec": {
      "name": "python3",
      "display_name": "Python 3"
    },
    "language_info": {
      "name": "python"
    }
  },
  "cells": [
    {
      "cell_type": "code",
      "execution_count": null,
      "metadata": {
        "colab": {
          "base_uri": "https://localhost:8080/"
        },
        "id": "omoHR1BPNWSN",
        "outputId": "ebfc40c7-d95c-4f7d-c0e0-493e341a2534"
      },
      "outputs": [
        {
          "output_type": "stream",
          "name": "stdout",
          "text": [
            "Collecting ortools\n",
            "  Downloading ortools-9.9.3963-cp310-cp310-manylinux_2_17_x86_64.manylinux2014_x86_64.whl (24.8 MB)\n",
            "\u001b[2K     \u001b[90m━━━━━━━━━━━━━━━━━━━━━━━━━━━━━━━━━━━━━━━━\u001b[0m \u001b[32m24.8/24.8 MB\u001b[0m \u001b[31m29.7 MB/s\u001b[0m eta \u001b[36m0:00:00\u001b[0m\n",
            "\u001b[?25hCollecting absl-py>=2.0.0 (from ortools)\n",
            "  Downloading absl_py-2.1.0-py3-none-any.whl (133 kB)\n",
            "\u001b[2K     \u001b[90m━━━━━━━━━━━━━━━━━━━━━━━━━━━━━━━━━━━━━━━━\u001b[0m \u001b[32m133.7/133.7 kB\u001b[0m \u001b[31m6.8 MB/s\u001b[0m eta \u001b[36m0:00:00\u001b[0m\n",
            "\u001b[?25hRequirement already satisfied: numpy>=1.13.3 in /usr/local/lib/python3.10/dist-packages (from ortools) (1.25.2)\n",
            "Requirement already satisfied: pandas>=2.0.0 in /usr/local/lib/python3.10/dist-packages (from ortools) (2.0.3)\n",
            "Collecting protobuf>=4.25.3 (from ortools)\n",
            "  Downloading protobuf-5.26.1-cp37-abi3-manylinux2014_x86_64.whl (302 kB)\n",
            "\u001b[2K     \u001b[90m━━━━━━━━━━━━━━━━━━━━━━━━━━━━━━━━━━━━━━━━\u001b[0m \u001b[32m302.8/302.8 kB\u001b[0m \u001b[31m16.1 MB/s\u001b[0m eta \u001b[36m0:00:00\u001b[0m\n",
            "\u001b[?25hCollecting immutabledict>=3.0.0 (from ortools)\n",
            "  Downloading immutabledict-4.2.0-py3-none-any.whl (4.7 kB)\n",
            "Requirement already satisfied: python-dateutil>=2.8.2 in /usr/local/lib/python3.10/dist-packages (from pandas>=2.0.0->ortools) (2.8.2)\n",
            "Requirement already satisfied: pytz>=2020.1 in /usr/local/lib/python3.10/dist-packages (from pandas>=2.0.0->ortools) (2023.4)\n",
            "Requirement already satisfied: tzdata>=2022.1 in /usr/local/lib/python3.10/dist-packages (from pandas>=2.0.0->ortools) (2024.1)\n",
            "Requirement already satisfied: six>=1.5 in /usr/local/lib/python3.10/dist-packages (from python-dateutil>=2.8.2->pandas>=2.0.0->ortools) (1.16.0)\n",
            "Installing collected packages: protobuf, immutabledict, absl-py, ortools\n",
            "  Attempting uninstall: protobuf\n",
            "    Found existing installation: protobuf 3.20.3\n",
            "    Uninstalling protobuf-3.20.3:\n",
            "      Successfully uninstalled protobuf-3.20.3\n",
            "  Attempting uninstall: absl-py\n",
            "    Found existing installation: absl-py 1.4.0\n",
            "    Uninstalling absl-py-1.4.0:\n",
            "      Successfully uninstalled absl-py-1.4.0\n",
            "\u001b[31mERROR: pip's dependency resolver does not currently take into account all the packages that are installed. This behaviour is the source of the following dependency conflicts.\n",
            "google-ai-generativelanguage 0.4.0 requires protobuf!=3.20.0,!=3.20.1,!=4.21.0,!=4.21.1,!=4.21.2,!=4.21.3,!=4.21.4,!=4.21.5,<5.0.0dev,>=3.19.5, but you have protobuf 5.26.1 which is incompatible.\n",
            "google-api-core 2.11.1 requires protobuf!=3.20.0,!=3.20.1,!=4.21.0,!=4.21.1,!=4.21.2,!=4.21.3,!=4.21.4,!=4.21.5,<5.0.0.dev0,>=3.19.5, but you have protobuf 5.26.1 which is incompatible.\n",
            "google-cloud-aiplatform 1.48.0 requires protobuf!=3.20.0,!=3.20.1,!=4.21.0,!=4.21.1,!=4.21.2,!=4.21.3,!=4.21.4,!=4.21.5,<5.0.0dev,>=3.19.5, but you have protobuf 5.26.1 which is incompatible.\n",
            "google-cloud-bigquery 3.12.0 requires protobuf!=3.20.0,!=3.20.1,!=4.21.0,!=4.21.1,!=4.21.2,!=4.21.3,!=4.21.4,!=4.21.5,<5.0.0dev,>=3.19.5, but you have protobuf 5.26.1 which is incompatible.\n",
            "google-cloud-bigquery-connection 1.12.1 requires protobuf!=3.20.0,!=3.20.1,!=4.21.0,!=4.21.1,!=4.21.2,!=4.21.3,!=4.21.4,!=4.21.5,<5.0.0dev,>=3.19.5, but you have protobuf 5.26.1 which is incompatible.\n",
            "google-cloud-bigquery-storage 2.24.0 requires protobuf!=3.20.0,!=3.20.1,!=4.21.0,!=4.21.1,!=4.21.2,!=4.21.3,!=4.21.4,!=4.21.5,<5.0.0dev,>=3.19.5, but you have protobuf 5.26.1 which is incompatible.\n",
            "google-cloud-datastore 2.15.2 requires protobuf!=3.20.0,!=3.20.1,!=4.21.0,!=4.21.1,!=4.21.2,!=4.21.3,!=4.21.4,!=4.21.5,<5.0.0dev,>=3.19.5, but you have protobuf 5.26.1 which is incompatible.\n",
            "google-cloud-firestore 2.11.1 requires protobuf!=3.20.0,!=3.20.1,!=4.21.0,!=4.21.1,!=4.21.2,!=4.21.3,!=4.21.4,!=4.21.5,<5.0.0dev,>=3.19.5, but you have protobuf 5.26.1 which is incompatible.\n",
            "google-cloud-functions 1.13.3 requires protobuf!=3.20.0,!=3.20.1,!=4.21.0,!=4.21.1,!=4.21.2,!=4.21.3,!=4.21.4,!=4.21.5,<5.0.0dev,>=3.19.5, but you have protobuf 5.26.1 which is incompatible.\n",
            "google-cloud-iam 2.15.0 requires protobuf!=3.20.0,!=3.20.1,!=4.21.0,!=4.21.1,!=4.21.2,!=4.21.3,!=4.21.4,!=4.21.5,<5.0.0dev,>=3.19.5, but you have protobuf 5.26.1 which is incompatible.\n",
            "google-cloud-language 2.13.3 requires protobuf!=3.20.0,!=3.20.1,!=4.21.0,!=4.21.1,!=4.21.2,!=4.21.3,!=4.21.4,!=4.21.5,<5.0.0dev,>=3.19.5, but you have protobuf 5.26.1 which is incompatible.\n",
            "google-cloud-resource-manager 1.12.3 requires protobuf!=3.20.0,!=3.20.1,!=4.21.0,!=4.21.1,!=4.21.2,!=4.21.3,!=4.21.4,!=4.21.5,<5.0.0dev,>=3.19.5, but you have protobuf 5.26.1 which is incompatible.\n",
            "google-cloud-translate 3.11.3 requires protobuf!=3.20.0,!=3.20.1,!=4.21.0,!=4.21.1,!=4.21.2,!=4.21.3,!=4.21.4,!=4.21.5,<5.0.0dev,>=3.19.5, but you have protobuf 5.26.1 which is incompatible.\n",
            "googleapis-common-protos 1.63.0 requires protobuf!=3.20.0,!=3.20.1,!=4.21.1,!=4.21.2,!=4.21.3,!=4.21.4,!=4.21.5,<5.0.0.dev0,>=3.19.5, but you have protobuf 5.26.1 which is incompatible.\n",
            "grpc-google-iam-v1 0.13.0 requires protobuf!=3.20.0,!=3.20.1,!=4.21.1,!=4.21.2,!=4.21.3,!=4.21.4,!=4.21.5,<5.0.0dev,>=3.19.5, but you have protobuf 5.26.1 which is incompatible.\n",
            "proto-plus 1.23.0 requires protobuf<5.0.0dev,>=3.19.0, but you have protobuf 5.26.1 which is incompatible.\n",
            "tensorflow 2.15.0 requires protobuf!=4.21.0,!=4.21.1,!=4.21.2,!=4.21.3,!=4.21.4,!=4.21.5,<5.0.0dev,>=3.20.3, but you have protobuf 5.26.1 which is incompatible.\n",
            "tensorflow-metadata 1.14.0 requires absl-py<2.0.0,>=0.9, but you have absl-py 2.1.0 which is incompatible.\n",
            "tensorflow-metadata 1.14.0 requires protobuf<4.21,>=3.20.3, but you have protobuf 5.26.1 which is incompatible.\u001b[0m\u001b[31m\n",
            "\u001b[0mSuccessfully installed absl-py-2.1.0 immutabledict-4.2.0 ortools-9.9.3963 protobuf-5.26.1\n"
          ]
        }
      ],
      "source": [
        "!pip install ortools"
      ]
    },
    {
      "cell_type": "code",
      "source": [
        "import numpy as np\n",
        "from ortools.linear_solver import pywraplp\n",
        "import matplotlib.pyplot as plt\n",
        "from mpl_toolkits.mplot3d import Axes3D"
      ],
      "metadata": {
        "id": "oihpzSAeNXZL"
      },
      "execution_count": null,
      "outputs": []
    },
    {
      "cell_type": "code",
      "source": [
        "def finite_IRL(P, policy, gamma, l1, R_max):\n",
        "    k = P.shape[0]\n",
        "    N = P.shape[1]\n",
        "    actions = set(range(k))\n",
        "\n",
        "    def dot(a, s):\n",
        "        return (P[policy[s], s] - P[a, s]) @ np.linalg.inv(np.eye(N) - gamma * P[policy[s]])\n",
        "\n",
        "    solver = pywraplp.Solver.CreateSolver('GLOP')\n",
        "\n",
        "    Z = []\n",
        "    R = []\n",
        "    abs_R = []\n",
        "    for s in range(N):\n",
        "        # Add the new Z variables and R variable here\n",
        "        tmp_z = solver.NumVar(-solver.infinity(), solver.infinity(), f\"Z{s}\")\n",
        "        tmp_r = solver.NumVar(-R_max, R_max, f\"R{s}\")\n",
        "        tmp_abs_r = solver.NumVar(-R_max, R_max, f\"absR{s}\")\n",
        "        Z.append(tmp_z)\n",
        "        R.append(tmp_r)\n",
        "        abs_R.append(tmp_abs_r)\n",
        "\n",
        "\n",
        "    # Define the optimization here\n",
        "    objective = solver.Objective()\n",
        "    for i in range(N):\n",
        "        objective.SetCoefficient(Z[i], 1)\n",
        "        objective.SetCoefficient(R[i], 0)\n",
        "        objective.SetCoefficient(abs_R[i], -l1)\n",
        "    objective.SetMaximization()\n",
        "\n",
        "    for i in range(N):\n",
        "        solver.Add(abs_R[i] >= R[i])\n",
        "        solver.Add(abs_R[i] >= -R[i])\n",
        "\n",
        "    for s in range(N):\n",
        "        for a in actions - {policy[s]}:\n",
        "            # Add 1st set and 2nd set of constraints here\n",
        "\n",
        "            tmp_coeff = dot(a,s)\n",
        "            constraint1 = solver.Constraint(-solver.infinity(), 0)\n",
        "            for i in range(N):\n",
        "                constraint1.SetCoefficient(R[i], -tmp_coeff[i])\n",
        "\n",
        "            constraint2 = solver.Constraint(-solver.infinity(), 0)\n",
        "            for i in range(N):\n",
        "                constraint2.SetCoefficient(R[i], -tmp_coeff[i])\n",
        "            constraint2.SetCoefficient(Z[s], 1)\n",
        "\n",
        "\n",
        "    status = solver.Solve()\n",
        "    if status == pywraplp.Solver.OPTIMAL:\n",
        "        # Retrieve solution\n",
        "        solution = [R[i].solution_value() for i in range(N)]\n",
        "        optimal_value = solver.Objective().Value()\n",
        "        return solution, optimal_value\n",
        "    else:\n",
        "        return None, None"
      ],
      "metadata": {
        "id": "EkpEHzO1NZX4"
      },
      "execution_count": null,
      "outputs": []
    },
    {
      "cell_type": "code",
      "source": [
        "def find_lambda(P, policy, gamma, h, R_max):\n",
        "    lo = 0\n",
        "    hi = h\n",
        "\n",
        "    n = 0\n",
        "    while lo < hi:\n",
        "        mid = (lo + hi)/2\n",
        "        r, v = finite_IRL(P, policy, gamma, mid, R_max)\n",
        "        r = np.array(r)\n",
        "        if sum(r) < 1e-10:\n",
        "            hi = mid\n",
        "        else:\n",
        "            lo = mid\n",
        "\n",
        "        n += 1\n",
        "        if n > 1e4:\n",
        "            break\n",
        "\n",
        "    return mid"
      ],
      "metadata": {
        "id": "X1aVQvdQVVsT"
      },
      "execution_count": null,
      "outputs": []
    },
    {
      "cell_type": "code",
      "source": [
        "def create_P(n):\n",
        "    poss_n_act = {}\n",
        "    poss_n_act[0] = 3\n",
        "    poss_n_act[n*(n-1)] = 3\n",
        "    for i in range(1,n-1):\n",
        "        poss_n_act[i] = 4\n",
        "        poss_n_act[n*(n-1)+i] = 4\n",
        "    poss_n_act[n-1] = 3\n",
        "    poss_n_act[n**2 - 1] = 1\n",
        "\n",
        "    for i in range(n,n*(n-1),n):\n",
        "        poss_n_act[i] = 4\n",
        "        for j in range(1,n-1):\n",
        "            poss_n_act[i+j] = 5\n",
        "        poss_n_act[i+n-1] = 4\n",
        "\n",
        "    P = np.zeros((5,n**2,n**2))\n",
        "\n",
        "    for i in range(n**2):\n",
        "        P[4][i][i] = 1/poss_n_act[i]\n",
        "\n",
        "    # Up\n",
        "    for i in range(n*(n-1)):\n",
        "        P[0][i][i+n] = 1/poss_n_act[i]\n",
        "\n",
        "    # Right\n",
        "    for i in range(n**2-1):\n",
        "        if (i + 1)%n != 0:\n",
        "            P[1][i][i+1] = 1/poss_n_act[i]\n",
        "\n",
        "    # Down\n",
        "    for i in range(n,n**2-1):\n",
        "        P[2][i][i-n] = 1/poss_n_act[i]\n",
        "\n",
        "    # left\n",
        "    for i in range(n**2-1):\n",
        "        if i%n != 0:\n",
        "            P[3][i][i-1] = 1/poss_n_act[i]\n",
        "\n",
        "    return P"
      ],
      "metadata": {
        "id": "JrAMln8LeswP"
      },
      "execution_count": null,
      "outputs": []
    },
    {
      "cell_type": "code",
      "source": [
        "def bellman_eq(V, T, R, gamma, state, action):\n",
        "    # Initialize the value of the Bellman equation\n",
        "    num_state = V.shape[0]\n",
        "    val = 0\n",
        "\n",
        "    # Compute the value of the Bellman equation for the given state-action pair\n",
        "    for i in range(num_state):\n",
        "        val += T[state, action, i] * (R[state, action, i] + gamma*V[i])\n",
        "\n",
        "    return val\n",
        "\n",
        "def value_iteration(T, R, gamma):\n",
        "    # Initialize value functions V_now and V_last\n",
        "    num_state = T.shape[0]\n",
        "    num_action = T.shape[1]\n",
        "    V_now = np.zeros(num_state)\n",
        "    V_last = np.zeros(num_state)\n",
        "\n",
        "    while True:\n",
        "        # Update V_last with the current values of V_now\n",
        "        V_last = np.copy(V_now)\n",
        "\n",
        "        # Update V_now for each state using the Bellman optimality equation\n",
        "        for s in range(num_state):\n",
        "            max_val = float('-inf')\n",
        "            # Find the maximum value over all actions for the current state\n",
        "            for a in range(num_action):\n",
        "                max_val = max(max_val, bellman_eq(V_last, T, R, gamma, s, a))\n",
        "            # Update V_now for the current state\n",
        "            V_now[s] = max_val\n",
        "\n",
        "        # Check for convergence\n",
        "        if np.allclose(V_now, V_last):\n",
        "            break\n",
        "\n",
        "    return V_now\n",
        "\n",
        "\n",
        "def Q_star(V_star, T, R, gamma):\n",
        "    num_state = T.shape[0]\n",
        "    num_action = T.shape[1]\n",
        "    # Initialize a matrix to store Q-values for all state-action pairs\n",
        "    Q_s = np.zeros((num_state, num_action))\n",
        "\n",
        "    # Compute Q-values for each state-action pair\n",
        "    for a in range(num_action):\n",
        "        for s in range(num_state):\n",
        "            # Compute the Q-value using the Bellman equation and store it in Q_s\n",
        "            Q_s[s][a] += bellman_eq(V_star, T, R, gamma, s, a)\n",
        "\n",
        "    # Return the matrix of Q-values\n",
        "    return Q_s\n",
        "\n",
        "def optimal_policy(Q_star):\n",
        "    num_state = Q_star.shape[0]\n",
        "    # Initialize an empty list to store the optimal policy\n",
        "    policy = []\n",
        "\n",
        "    # Iterate over all states\n",
        "    for s in range(num_state):\n",
        "        # Find the index of the action with the highest Q-value for the current state\n",
        "        optimal_action = np.argmax(Q_star[s])\n",
        "\n",
        "        # Append the optimal action to the policy list\n",
        "        policy.append(optimal_action)\n",
        "\n",
        "    # Return the optimal policy\n",
        "    return policy"
      ],
      "metadata": {
        "id": "sd96u_z6hMEs"
      },
      "execution_count": null,
      "outputs": []
    },
    {
      "cell_type": "code",
      "source": [
        "P5 = create_P(5)\n",
        "R = np.zeros((25,5,25))\n",
        "R[24] = np.ones((5,25))\n",
        "T = np.transpose(P5, (1,0,2))\n",
        "gamma = 0.85\n",
        "V = value_iteration(T, R, gamma)\n",
        "Q = Q_star(V, T, R, gamma)\n",
        "opt_pol = optimal_policy(Q)\n",
        "opt_pol"
      ],
      "metadata": {
        "colab": {
          "base_uri": "https://localhost:8080/"
        },
        "id": "ww0RpjVIj6I8",
        "outputId": "21e4e640-d97f-4c2e-ca3f-1317bbf55816"
      },
      "execution_count": null,
      "outputs": [
        {
          "output_type": "execute_result",
          "data": {
            "text/plain": [
              "[0, 1, 1, 1, 0, 0, 0, 1, 1, 0, 0, 0, 0, 1, 0, 0, 0, 0, 0, 0, 1, 1, 1, 1, 4]"
            ]
          },
          "metadata": {},
          "execution_count": 13
        }
      ]
    },
    {
      "cell_type": "code",
      "source": [
        "l1 = find_lambda(P5, opt_pol, gamma, 100, 1)"
      ],
      "metadata": {
        "id": "AajPoLcGlkUx",
        "colab": {
          "base_uri": "https://localhost:8080/",
          "height": 141
        },
        "outputId": "cd7d888c-9a2c-4c52-8438-5a72d1b3aff1"
      },
      "execution_count": null,
      "outputs": [
        {
          "output_type": "error",
          "ename": "NameError",
          "evalue": "name 'find_lambda' is not defined",
          "traceback": [
            "\u001b[0;31m---------------------------------------------------------------------------\u001b[0m",
            "\u001b[0;31mNameError\u001b[0m                                 Traceback (most recent call last)",
            "\u001b[0;32m<ipython-input-6-d3377a2e4c12>\u001b[0m in \u001b[0;36m<cell line: 1>\u001b[0;34m()\u001b[0m\n\u001b[0;32m----> 1\u001b[0;31m \u001b[0ml1\u001b[0m \u001b[0;34m=\u001b[0m \u001b[0mfind_lambda\u001b[0m\u001b[0;34m(\u001b[0m\u001b[0mP5\u001b[0m\u001b[0;34m,\u001b[0m \u001b[0mopt_pol\u001b[0m\u001b[0;34m,\u001b[0m \u001b[0mgamma\u001b[0m\u001b[0;34m,\u001b[0m \u001b[0;36m100\u001b[0m\u001b[0;34m,\u001b[0m \u001b[0;36m1\u001b[0m\u001b[0;34m)\u001b[0m\u001b[0;34m\u001b[0m\u001b[0;34m\u001b[0m\u001b[0m\n\u001b[0m",
            "\u001b[0;31mNameError\u001b[0m: name 'find_lambda' is not defined"
          ]
        }
      ]
    },
    {
      "cell_type": "code",
      "source": [
        "l1"
      ],
      "metadata": {
        "colab": {
          "base_uri": "https://localhost:8080/"
        },
        "id": "yyL1TXUAlwa5",
        "outputId": "3efd8d5f-d4ed-4819-a406-a9a0dd4c43cb"
      },
      "execution_count": null,
      "outputs": [
        {
          "output_type": "execute_result",
          "data": {
            "text/plain": [
              "5.910564988731634"
            ]
          },
          "metadata": {},
          "execution_count": 10
        }
      ]
    },
    {
      "cell_type": "code",
      "source": [
        "r, v = finite_IRL(P5, opt_pol, gamma, 5.91, 1)"
      ],
      "metadata": {
        "id": "vdimnMMnmVct"
      },
      "execution_count": null,
      "outputs": []
    },
    {
      "cell_type": "code",
      "source": [
        "r"
      ],
      "metadata": {
        "colab": {
          "base_uri": "https://localhost:8080/"
        },
        "id": "GvZNIlRCmcde",
        "outputId": "6a92cd83-aa24-4a33-d1a9-2a029ea2cd19"
      },
      "execution_count": null,
      "outputs": [
        {
          "output_type": "execute_result",
          "data": {
            "text/plain": [
              "[0.0,\n",
              " 2.220446049250313e-16,\n",
              " -2.220446049250313e-16,\n",
              " 0.0,\n",
              " -2.220446049250313e-16,\n",
              " 2.220446049250313e-16,\n",
              " 0.0,\n",
              " 0.0,\n",
              " 0.0,\n",
              " 0.0,\n",
              " -2.220446049250313e-16,\n",
              " 0.0,\n",
              " 1.1102230246251565e-16,\n",
              " 0.0,\n",
              " 0.0,\n",
              " 2.220446049250313e-16,\n",
              " 0.0,\n",
              " 0.0,\n",
              " 0.0,\n",
              " -0.21249999999999747,\n",
              " 1.1102230246251565e-16,\n",
              " 2.220446049250313e-16,\n",
              " 0.0,\n",
              " 2.4424906541753444e-15,\n",
              " 1.0]"
            ]
          },
          "metadata": {},
          "execution_count": 26
        }
      ]
    },
    {
      "cell_type": "code",
      "source": [
        "x = np.array(range(5))\n",
        "y = np.array(range(5))\n",
        "X,Y = np.meshgrid(x,y)\n",
        "\n",
        "Z = np.array(r).reshape(5,5)\n",
        "\n",
        "fig = plt.figure()\n",
        "axes = fig.add_subplot(projection ='3d')\n",
        "axes.plot_surface(X, Y, Z)\n",
        "axes.plot_wireframe(X, Y, Z, color='black')\n",
        "\n",
        "plt.show()"
      ],
      "metadata": {
        "id": "C-OGfvSLmdIc",
        "colab": {
          "base_uri": "https://localhost:8080/",
          "height": 415
        },
        "outputId": "88d0f52f-9870-4265-e056-66481805a62b"
      },
      "execution_count": null,
      "outputs": [
        {
          "output_type": "display_data",
          "data": {
            "text/plain": [
              "<Figure size 640x480 with 1 Axes>"
            ],
            "image/png": "[encoded data removed]"
          },
          "metadata": {}
        }
      ]
    },
    {
      "cell_type": "code",
      "source": [],
      "metadata": {
        "id": "EHWE6VQ1yWIe"
      },
      "execution_count": null,
      "outputs": []
    }
  ]
}